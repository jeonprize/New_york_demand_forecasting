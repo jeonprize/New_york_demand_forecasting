{
 "cells": [
  {
   "cell_type": "markdown",
   "metadata": {},
   "source": [
    "### 반복을 위한 Sacred\n",
    " - 목적  \n",
    "    - 머신러닝 모델링에서 사용되는 config, parameter등을 손쉽게 저장할 수 있도록 도와주는 도구  \n",
    "\n",
    " - 이유  \n",
    "    - 다양한 실험을 빠르게 진행하며, 손으로 기록하지 않고 자동으로 기록될 수 있도록 도와주는 도구  \n",
    "    \n",
    " - 특징  \n",
    "    - 환경설정을 다시 reproduce할 수 있도록 도와주는 도구\n",
    "        - 실험의 모든 파라미터 추적\n",
    "        - 여러 설정에 대해 쉽게 실험을 할 수 있음\n",
    "        - DB에 각 실행의 설정을 저장\n",
    "        - 결과를 reproduce  \n",
    "        \n",
    "    - 옴니보드등을 통해 저장된 값을 시각화할 수 있음\n",
    "        - 옴니보드 : sacred에서 저장된 파리미터를 테이블로 보여주고 성능을 표시"
   ]
  },
  {
   "cell_type": "markdown",
   "metadata": {},
   "source": [
    "#### sacred의 main mechanisms\n",
    "- ConfigScopes : 함수의 local변수를 편리하게 다룰 수 있음. @ex.config 데코레이터로 사용\n",
    "- Config Injection : 모든 함수에 있는 설정을 접근할 수 있음\n",
    "- Command-line interface : 커맨드 라인으로 파라미터를 바꿔서 실행할 수 있음\n",
    "- Observers : 실험의 모든 정보를 Observers에게 제공해 저장\n",
    "- Automatic seeding : 실험의 무작위를 컨트롤할 때 도와줌"
   ]
  },
  {
   "cell_type": "markdown",
   "metadata": {},
   "source": [
    "### 공식 홈페이지 sacred 예시"
   ]
  },
  {
   "cell_type": "code",
   "execution_count": 1,
   "metadata": {},
   "outputs": [],
   "source": [
    "import pandas as pd\n",
    "from sklearn.preprocessing import OneHotEncoder, LabelEncoder\n",
    "from sklearn.linear_model import LinearRegression\n",
    "import seaborn as sns\n",
    "import warnings\n",
    "warnings.filterwarnings('ignore')\n",
    "\n",
    "import matplotlib.pyplot as plt\n",
    "from ipywidgets import interact\n",
    "from sklearn.metrics import mean_absolute_error\n",
    "from sklearn.metrics import mean_squared_error\n",
    "import os\n",
    "from numpy.random import permutation\n",
    "from sklearn import svm, datasets\n",
    "from sacred import Experiment\n",
    "from sacred.observers import FileStorageObserver\n",
    "from IPython.display import set_matplotlib_formats\n",
    "set_matplotlib_formats(\"retina\")\n",
    "plt.rc(\"font\",family=\"Malgun Gothic\")\n",
    "plt.rc(\"axes\",unicode_minus=False)\n",
    "\n",
    "plt.style.use('ggplot')\n",
    "PROJECT_ID='new-york-taxi-309501' "
   ]
  },
  {
   "cell_type": "code",
   "execution_count": null,
   "metadata": {},
   "outputs": [],
   "source": []
  }
 ],
 "metadata": {
  "kernelspec": {
   "display_name": "Python 3",
   "language": "python",
   "name": "python3"
  },
  "language_info": {
   "codemirror_mode": {
    "name": "ipython",
    "version": 3
   },
   "file_extension": ".py",
   "mimetype": "text/x-python",
   "name": "python",
   "nbconvert_exporter": "python",
   "pygments_lexer": "ipython3",
   "version": "3.7.4"
  },
  "toc": {
   "base_numbering": 1,
   "nav_menu": {},
   "number_sections": true,
   "sideBar": true,
   "skip_h1_title": false,
   "title_cell": "Table of Contents",
   "title_sidebar": "Contents",
   "toc_cell": false,
   "toc_position": {},
   "toc_section_display": true,
   "toc_window_display": true
  },
  "varInspector": {
   "cols": {
    "lenName": 16,
    "lenType": 16,
    "lenVar": 40
   },
   "kernels_config": {
    "python": {
     "delete_cmd_postfix": "",
     "delete_cmd_prefix": "del ",
     "library": "var_list.py",
     "varRefreshCmd": "print(var_dic_list())"
    },
    "r": {
     "delete_cmd_postfix": ") ",
     "delete_cmd_prefix": "rm(",
     "library": "var_list.r",
     "varRefreshCmd": "cat(var_dic_list()) "
    }
   },
   "types_to_exclude": [
    "module",
    "function",
    "builtin_function_or_method",
    "instance",
    "_Feature"
   ],
   "window_display": false
  }
 },
 "nbformat": 4,
 "nbformat_minor": 2
}
