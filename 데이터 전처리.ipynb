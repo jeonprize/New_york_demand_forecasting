{
 "cells": [
  {
   "cell_type": "markdown",
   "metadata": {},
   "source": [
    "### 모델링을 위한 기본 전처리\n",
    "\n",
    "- 기본적인 전처리는 파이썬에서 가능한 부분은 파이썬에서 수행하며, SQL에서 가능한 부분은 SQL에서 수행한다.\n"
   ]
  },
  {
   "cell_type": "markdown",
   "metadata": {},
   "source": [
    "- 다루는 내용\n",
    "    - `시간 관련 전처리`\n",
    "        - DATETIME에서 MONTH, HOUR, WEEKDAY 등 추출\n",
    "    - `BigQuery GIS`로 Reverse Geocoding\n",
    "        - 좌표 => zip_code로 변환\n",
    "    - `학습/ 테스트 데이터 분리`\n",
    "        - train_split_test\n",
    "    - `카테고리컬` 데이터 전처리\n",
    "        - One Hot Encoding\n",
    "        - Label Encoding"
   ]
  },
  {
   "cell_type": "code",
   "execution_count": 1,
   "metadata": {},
   "outputs": [],
   "source": [
    "import pandas as pd\n",
    "from sklearn.preprocessing import OneHotEncoder, LabelEncoder\n",
    "import warnings\n",
    "import seaborn as sns\n",
    "from sklearn.linear_model import LinearRegression\n",
    "warnings.filterwarnings('ignore')\n",
    "\n",
    "PROJECT_ID = 'new-york-taxi-309501'"
   ]
  },
  {
   "cell_type": "markdown",
   "metadata": {},
   "source": [
    "### 시간관련 전처리\n",
    "- Bigquery vs Python\n",
    "    - Bigquery\n",
    "        - DATETIME_TRUNC 함수를 사용하면 데이터 자르기 가능\n",
    "        - EXTRACT 함수를 사용하면 MONTH, WEEK, DAY, HOUR등을 쉽게 추출 가능\n",
    "        - FORMAT_DATETIME 함수를 사용하면 요일 추출 가능( 1이 월요일, Pandas에서는 0이 월요일 )"
   ]
  },
  {
   "cell_type": "code",
   "execution_count": 2,
   "metadata": {},
   "outputs": [
    {
     "name": "stderr",
     "output_type": "stream",
     "text": [
      "Downloading: 100%|███████████████████████████████████████████████████████████████| 744/744 [00:00<00:00, 1881.15rows/s]\n"
     ]
    }
   ],
   "source": [
    "extract_query = \"\"\"\n",
    "SELECT\n",
    "    *,\n",
    "    EXTRACT(MONTH FROM pickup_hour) AS month,\n",
    "    EXTRACT(DAY FROM pickup_hour) AS day,\n",
    "    CAST(format_datetime('%u', pickup_hour) AS INT64) -1 AS weekday, # Python과 맞추기 위해 -1\n",
    "    EXTRACT(HOUR FROM pickup_hour) AS hour,\n",
    "    CASE WHEN CAST(FORMAT_DATETIME('%u', pickup_hour) AS INT64) IN (6, 7) THEN 1 ELSE 0 END AS is_weekend\n",
    "FROM (\n",
    "    SELECT \n",
    "        DATETIME_TRUNC(pickup_datetime, hour) AS pickup_hour,\n",
    "        count(*) AS cnt\n",
    "    FROM `bigquery-public-data.new_york_taxi_trips.tlc_yellow_trips_2015` \n",
    "    WHERE EXTRACT(MONTH from pickup_datetime) = 1\n",
    "    GROUP BY pickup_hour\n",
    ")\n",
    "ORDER BY pickup_hour\n",
    "\"\"\"\n",
    "\n",
    "df = pd.read_gbq(query=extract_query, dialect='standard', project_id='new-york-taxi-309501')"
   ]
  },
  {
   "cell_type": "code",
   "execution_count": null,
   "metadata": {},
   "outputs": [],
   "source": []
  }
 ],
 "metadata": {
  "kernelspec": {
   "display_name": "Python 3",
   "language": "python",
   "name": "python3"
  },
  "language_info": {
   "codemirror_mode": {
    "name": "ipython",
    "version": 3
   },
   "file_extension": ".py",
   "mimetype": "text/x-python",
   "name": "python",
   "nbconvert_exporter": "python",
   "pygments_lexer": "ipython3",
   "version": "3.7.4"
  },
  "toc": {
   "base_numbering": 1,
   "nav_menu": {},
   "number_sections": true,
   "sideBar": true,
   "skip_h1_title": false,
   "title_cell": "Table of Contents",
   "title_sidebar": "Contents",
   "toc_cell": false,
   "toc_position": {},
   "toc_section_display": true,
   "toc_window_display": false
  },
  "varInspector": {
   "cols": {
    "lenName": 16,
    "lenType": 16,
    "lenVar": 40
   },
   "kernels_config": {
    "python": {
     "delete_cmd_postfix": "",
     "delete_cmd_prefix": "del ",
     "library": "var_list.py",
     "varRefreshCmd": "print(var_dic_list())"
    },
    "r": {
     "delete_cmd_postfix": ") ",
     "delete_cmd_prefix": "rm(",
     "library": "var_list.r",
     "varRefreshCmd": "cat(var_dic_list()) "
    }
   },
   "types_to_exclude": [
    "module",
    "function",
    "builtin_function_or_method",
    "instance",
    "_Feature"
   ],
   "window_display": false
  }
 },
 "nbformat": 4,
 "nbformat_minor": 2
}
